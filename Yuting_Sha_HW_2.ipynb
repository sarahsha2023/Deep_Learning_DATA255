{
  "cells": [
    {
      "cell_type": "code",
      "execution_count": 1,
      "metadata": {
        "id": "DpGSAWHAplD1"
      },
      "outputs": [],
      "source": [
        "#!pip3 uninstall --yes torch torchaudio torchvision torchtext torchdata\n",
        "#!pip3 install torch torchaudio torchvision torchtext torchdata"
      ]
    },
    {
      "cell_type": "code",
      "execution_count": 2,
      "metadata": {
        "id": "VAIv6ss_rRsK"
      },
      "outputs": [],
      "source": [
        "#!pip install -U portalocker>=2.0.0"
      ]
    },
    {
      "cell_type": "markdown",
      "metadata": {
        "id": "D8E7Gkeq6bTk"
      },
      "source": [
        "**Step 2. Reproduce the results utilizing the \"QMNIST\" dataset**"
      ]
    },
    {
      "cell_type": "code",
      "execution_count": 3,
      "metadata": {
        "id": "LjxcrLGBrVm6"
      },
      "outputs": [],
      "source": [
        "# import the essential liraries\n",
        "import torch\n",
        "import torch.nn as nn\n",
        "import torch.optim as optim\n",
        "import torchvision\n",
        "import torchvision.transforms as transforms\n",
        "from torch.utils.data import DataLoader\n",
        "import matplotlib.pyplot as plt"
      ]
    },
    {
      "cell_type": "code",
      "execution_count": 4,
      "metadata": {
        "colab": {
          "base_uri": "https://localhost:8080/"
        },
        "id": "Sx_NionAtPw1",
        "outputId": "f66bd034-733b-430d-d923-dd6fc14d8b8a"
      },
      "outputs": [
        {
          "name": "stdout",
          "output_type": "stream",
          "text": [
            "Downloading https://raw.githubusercontent.com/facebookresearch/qmnist/master/qmnist-train-images-idx3-ubyte.gz to ./data/QMNIST/raw/qmnist-train-images-idx3-ubyte.gz\n"
          ]
        },
        {
          "name": "stderr",
          "output_type": "stream",
          "text": [
            "100%|██████████| 9704059/9704059 [00:00<00:00, 118029182.62it/s]"
          ]
        },
        {
          "name": "stdout",
          "output_type": "stream",
          "text": [
            "Extracting ./data/QMNIST/raw/qmnist-train-images-idx3-ubyte.gz to ./data/QMNIST/raw\n"
          ]
        },
        {
          "name": "stderr",
          "output_type": "stream",
          "text": [
            "\n"
          ]
        },
        {
          "name": "stdout",
          "output_type": "stream",
          "text": [
            "Downloading https://raw.githubusercontent.com/facebookresearch/qmnist/master/qmnist-train-labels-idx2-int.gz to ./data/QMNIST/raw/qmnist-train-labels-idx2-int.gz\n"
          ]
        },
        {
          "name": "stderr",
          "output_type": "stream",
          "text": [
            "100%|██████████| 463024/463024 [00:00<00:00, 19937207.19it/s]"
          ]
        },
        {
          "name": "stdout",
          "output_type": "stream",
          "text": [
            "Extracting ./data/QMNIST/raw/qmnist-train-labels-idx2-int.gz to ./data/QMNIST/raw\n"
          ]
        },
        {
          "name": "stderr",
          "output_type": "stream",
          "text": [
            "\n"
          ]
        },
        {
          "name": "stdout",
          "output_type": "stream",
          "text": [
            "Downloading https://raw.githubusercontent.com/facebookresearch/qmnist/master/qmnist-test-images-idx3-ubyte.gz to ./data/QMNIST/raw/qmnist-test-images-idx3-ubyte.gz\n"
          ]
        },
        {
          "name": "stderr",
          "output_type": "stream",
          "text": [
            "100%|██████████| 9742279/9742279 [00:00<00:00, 131926787.84it/s]"
          ]
        },
        {
          "name": "stdout",
          "output_type": "stream",
          "text": [
            "Extracting ./data/QMNIST/raw/qmnist-test-images-idx3-ubyte.gz to ./data/QMNIST/raw\n"
          ]
        },
        {
          "name": "stderr",
          "output_type": "stream",
          "text": [
            "\n"
          ]
        },
        {
          "name": "stdout",
          "output_type": "stream",
          "text": [
            "Downloading https://raw.githubusercontent.com/facebookresearch/qmnist/master/qmnist-test-labels-idx2-int.gz to ./data/QMNIST/raw/qmnist-test-labels-idx2-int.gz\n"
          ]
        },
        {
          "name": "stderr",
          "output_type": "stream",
          "text": [
            "100%|██████████| 526800/526800 [00:00<00:00, 20774149.80it/s]"
          ]
        },
        {
          "name": "stdout",
          "output_type": "stream",
          "text": [
            "Extracting ./data/QMNIST/raw/qmnist-test-labels-idx2-int.gz to ./data/QMNIST/raw\n"
          ]
        },
        {
          "name": "stderr",
          "output_type": "stream",
          "text": [
            "\n"
          ]
        }
      ],
      "source": [
        "# Load QMNIST dataset and preprocess\n",
        "transform = transforms.Compose([transforms.ToTensor(), transforms.Normalize((0.5,), (0.5,))])\n",
        "train_dataset = torchvision.datasets.QMNIST(root='./data', train=True, download=True, transform=transform)\n",
        "test_dataset = torchvision.datasets.QMNIST(root='./data', train=False, download=True, transform=transform)\n",
        "\n",
        "# Create data loaders\n",
        "train_loader = DataLoader(train_dataset, batch_size=64, shuffle=True)\n",
        "test_loader = DataLoader(test_dataset, batch_size=64, shuffle=False)"
      ]
    },
    {
      "cell_type": "code",
      "execution_count": 5,
      "metadata": {
        "colab": {
          "base_uri": "https://localhost:8080/"
        },
        "id": "cQw4UotouxXT",
        "outputId": "3d1b0203-cb8d-4a9a-8ed6-6a71ccc6b1ca"
      },
      "outputs": [
        {
          "name": "stdout",
          "output_type": "stream",
          "text": [
            "Labels: tensor([7, 6, 2, 0, 7, 8, 4, 8, 8, 8, 3, 6, 3, 0, 2, 6, 7, 0, 3, 3, 7, 8, 9, 3,\n",
            "        1, 5, 9, 1, 7, 5, 0, 0, 8, 9, 9, 6, 5, 8, 4, 5, 7, 0, 5, 9, 7, 2, 5, 3,\n",
            "        2, 7, 7, 6, 5, 8, 6, 3, 1, 7, 0, 7, 7, 9, 7, 5])\n"
          ]
        }
      ],
      "source": [
        "# display the label of QMINIST dataset\n",
        "for batch_idx, (images, labels) in enumerate(train_loader):\n",
        "    print(\"Labels:\", labels)\n",
        "    break"
      ]
    },
    {
      "cell_type": "code",
      "execution_count": 6,
      "metadata": {
        "colab": {
          "base_uri": "https://localhost:8080/",
          "height": 675
        },
        "id": "CpEuotaOtpQI",
        "outputId": "59264204-6678-4caa-ad41-9492c504847e"
      },
      "outputs": [
        {
          "data": {
            "image/png": "[encoded data removed]",
            "text/plain": [
              "<Figure size 800x800 with 25 Axes>"
            ]
          },
          "metadata": {},
          "output_type": "display_data"
        }
      ],
      "source": [
        "# define the label\n",
        "labels_map = {\n",
        "    0: 0,\n",
        "    1: 1,\n",
        "    2: 2,\n",
        "    3: 3,\n",
        "    4: 4,\n",
        "    5: 5,\n",
        "    6: 6,\n",
        "    7: 7,\n",
        "    8: 8,\n",
        "    9: 9,\n",
        "}\n",
        "figure = plt.figure(figsize=(8, 8))\n",
        "cols, rows = 5, 5\n",
        "for i in range(1, cols * rows + 1):\n",
        "    sample_idx = torch.randint(len(train_dataset), size=(1,)).item()\n",
        "    img, label = train_dataset[sample_idx]\n",
        "    figure.add_subplot(rows, cols, i)\n",
        "    plt.title(labels_map[label])\n",
        "    plt.axis(\"off\")\n",
        "    plt.imshow(img.squeeze(), cmap=\"gray\")\n",
        "plt.show()"
      ]
    },
    {
      "cell_type": "code",
      "execution_count": 7,
      "metadata": {
        "colab": {
          "base_uri": "https://localhost:8080/",
          "height": 675
        },
        "id": "wuLSP5qCwbJ-",
        "outputId": "3fe31e62-67ee-452e-d83d-21f1480e570d"
      },
      "outputs": [
        {
          "data": {
            "image/png": "[encoded data removed]",
            "text/plain": [
              "<Figure size 800x800 with 25 Axes>"
            ]
          },
          "metadata": {},
          "output_type": "display_data"
        }
      ],
      "source": [
        "#Test DataSet\n",
        "figure = plt.figure(figsize=(8, 8))\n",
        "cols, rows = 5, 5\n",
        "for i in range(1, cols * rows + 1):\n",
        "    sample_idx = torch.randint(len(test_dataset), size=(1,)).item()\n",
        "    img, label = test_dataset[sample_idx]\n",
        "    figure.add_subplot(rows, cols, i)\n",
        "    plt.title(labels_map[label])\n",
        "    plt.axis(\"off\")\n",
        "    plt.imshow(img.squeeze(), cmap=\"gray\")\n",
        "plt.show()"
      ]
    },
    {
      "cell_type": "code",
      "execution_count": 8,
      "metadata": {
        "id": "LxJICBpaw59h"
      },
      "outputs": [],
      "source": [
        "#Define the neural network architecture\n",
        "class MLP(nn.Module):\n",
        "    def __init__(self):\n",
        "        super(MLP, self).__init__()\n",
        "        self.fc1 = nn.Linear(28 * 28, 128)\n",
        "        self.fc2 = nn.Linear(128, 64)\n",
        "        self.fc3 = nn.Linear(64, 10)\n",
        "\n",
        "    def forward(self, x):\n",
        "        x = x.view(-1, 28 * 28)\n",
        "        x = torch.relu(self.fc1(x))\n",
        "        x = torch.relu(self.fc2(x))\n",
        "        x = self.fc3(x)\n",
        "        return x\n",
        "\n",
        "# Initialize the neural network\n",
        "model = MLP()"
      ]
    },
    {
      "cell_type": "markdown",
      "metadata": {
        "id": "r9hnqBE_7P01"
      },
      "source": [
        "**Step 3. Report on the results in terms of prediction accuracy on the train and test datasets**"
      ]
    },
    {
      "cell_type": "code",
      "execution_count": 9,
      "metadata": {
        "colab": {
          "base_uri": "https://localhost:8080/"
        },
        "id": "nHlRvwgY5-Uf",
        "outputId": "7cc8df0c-9170-43fb-9b5f-387e66d00ded"
      },
      "outputs": [
        {
          "name": "stdout",
          "output_type": "stream",
          "text": [
            "Epoch 1, Batch 100, Loss: 1.0258068606257438, Training Accuracy: 69.91%\n",
            "Epoch 1, Batch 200, Loss: 0.44607549846172334, Training Accuracy: 86.88%\n",
            "Epoch 1, Batch 300, Loss: 0.37779620081186294, Training Accuracy: 88.38%\n",
            "Epoch 1, Batch 400, Loss: 0.3396302895247936, Training Accuracy: 89.81%\n",
            "Epoch 1, Batch 500, Loss: 0.3124812524020672, Training Accuracy: 90.36%\n",
            "Epoch 1, Batch 600, Loss: 0.3143164472281933, Training Accuracy: 90.47%\n",
            "Epoch 1, Batch 700, Loss: 0.2811606387794018, Training Accuracy: 91.33%\n",
            "Epoch 1, Batch 800, Loss: 0.27741761453449726, Training Accuracy: 92.11%\n",
            "Epoch 1, Batch 900, Loss: 0.2516379936784506, Training Accuracy: 92.80%\n",
            "Training Accuracy for Epoch 1: 92.29%\n",
            "Epoch 2, Batch 100, Loss: 0.21820720840245486, Training Accuracy: 93.58%\n",
            "Epoch 2, Batch 200, Loss: 0.21446228966116906, Training Accuracy: 93.55%\n",
            "Epoch 2, Batch 300, Loss: 0.20415533881634473, Training Accuracy: 93.84%\n",
            "Epoch 2, Batch 400, Loss: 0.2017902683466673, Training Accuracy: 94.25%\n",
            "Epoch 2, Batch 500, Loss: 0.18889534633606672, Training Accuracy: 94.05%\n",
            "Epoch 2, Batch 600, Loss: 0.1997574320062995, Training Accuracy: 94.12%\n",
            "Epoch 2, Batch 700, Loss: 0.1776903783529997, Training Accuracy: 94.31%\n",
            "Epoch 2, Batch 800, Loss: 0.1676934913173318, Training Accuracy: 94.67%\n",
            "Epoch 2, Batch 900, Loss: 0.15120884973555804, Training Accuracy: 95.14%\n",
            "Training Accuracy for Epoch 2: 95.33%\n",
            "Epoch 3, Batch 100, Loss: 0.15175887182354927, Training Accuracy: 95.47%\n",
            "Epoch 3, Batch 200, Loss: 0.15346459774300455, Training Accuracy: 95.41%\n",
            "Epoch 3, Batch 300, Loss: 0.14014104418456555, Training Accuracy: 95.42%\n",
            "Epoch 3, Batch 400, Loss: 0.14555412080138921, Training Accuracy: 95.34%\n",
            "Epoch 3, Batch 500, Loss: 0.13095445223152638, Training Accuracy: 95.83%\n",
            "Epoch 3, Batch 600, Loss: 0.1344347584247589, Training Accuracy: 96.03%\n",
            "Epoch 3, Batch 700, Loss: 0.1516291646938771, Training Accuracy: 95.61%\n",
            "Epoch 3, Batch 800, Loss: 0.12780374649912118, Training Accuracy: 96.02%\n",
            "Epoch 3, Batch 900, Loss: 0.1203335740044713, Training Accuracy: 96.39%\n",
            "Training Accuracy for Epoch 3: 96.25%\n",
            "Epoch 4, Batch 100, Loss: 0.11603022533468903, Training Accuracy: 96.50%\n",
            "Epoch 4, Batch 200, Loss: 0.11971764797344804, Training Accuracy: 96.25%\n",
            "Epoch 4, Batch 300, Loss: 0.11863940093666316, Training Accuracy: 96.38%\n",
            "Epoch 4, Batch 400, Loss: 0.11505664880387485, Training Accuracy: 96.42%\n",
            "Epoch 4, Batch 500, Loss: 0.12227983009070158, Training Accuracy: 96.08%\n",
            "Epoch 4, Batch 600, Loss: 0.11041790211573244, Training Accuracy: 96.64%\n",
            "Epoch 4, Batch 700, Loss: 0.10929269155487419, Training Accuracy: 96.67%\n",
            "Epoch 4, Batch 800, Loss: 0.10725670862011612, Training Accuracy: 96.80%\n",
            "Epoch 4, Batch 900, Loss: 0.09757854892872274, Training Accuracy: 96.97%\n",
            "Training Accuracy for Epoch 4: 96.46%\n",
            "Epoch 5, Batch 100, Loss: 0.08849503364413977, Training Accuracy: 97.56%\n",
            "Epoch 5, Batch 200, Loss: 0.08602587627246976, Training Accuracy: 97.19%\n",
            "Epoch 5, Batch 300, Loss: 0.0941761942859739, Training Accuracy: 96.92%\n",
            "Epoch 5, Batch 400, Loss: 0.08912037522997707, Training Accuracy: 97.11%\n",
            "Epoch 5, Batch 500, Loss: 0.0985296121519059, Training Accuracy: 96.95%\n",
            "Epoch 5, Batch 600, Loss: 0.09421751043759287, Training Accuracy: 97.05%\n",
            "Epoch 5, Batch 700, Loss: 0.08753943245857954, Training Accuracy: 97.30%\n",
            "Epoch 5, Batch 800, Loss: 0.09354721221141517, Training Accuracy: 96.95%\n",
            "Epoch 5, Batch 900, Loss: 0.10124036254361272, Training Accuracy: 96.83%\n",
            "Training Accuracy for Epoch 5: 97.42%\n",
            "Finished Training\n"
          ]
        }
      ],
      "source": [
        "# Define the loss function and optimizer\n",
        "criterion = nn.CrossEntropyLoss()\n",
        "optimizer = optim.Adam(model.parameters(), lr=0.001)\n",
        "\n",
        "# Set the number of epoch\n",
        "num_epochs = 5\n",
        "for epoch in range(num_epochs):\n",
        "    model.train()\n",
        "    running_loss = 0.0\n",
        "    correct_predictions = 0\n",
        "    total_predictions = 0\n",
        "    for i, data in enumerate(train_loader, 0):\n",
        "        inputs, labels = data\n",
        "        optimizer.zero_grad()\n",
        "        outputs = model(inputs)\n",
        "        loss = criterion(outputs, labels)\n",
        "        loss.backward()\n",
        "        optimizer.step()\n",
        "        running_loss += loss.item()\n",
        "\n",
        "        # Calculate training accuracy\n",
        "        _, predicted = torch.max(outputs, 1)\n",
        "        correct_predictions += (predicted == labels).sum().item()\n",
        "        total_predictions += labels.size(0)\n",
        "        #print(total_predictions, correct_predictions)\n",
        "        epoch_accuracy = correct_predictions / total_predictions\n",
        "        if i % 100 == 99:  # print every 100 mini-batches\n",
        "            print(f'Epoch {epoch + 1}, Batch {i + 1}, Loss: {running_loss / 100},'\n",
        "            f' Training Accuracy: {epoch_accuracy * 100:.2f}%')\n",
        "            running_loss = 0.0\n",
        "            correct_predictions = 0\n",
        "            total_predictions = 0\n",
        "\n",
        "    # Calculate training accuracy for the epoch\n",
        "    epoch_accuracy = correct_predictions / total_predictions\n",
        "    print(f'Training Accuracy for Epoch {epoch + 1}: {epoch_accuracy * 100:.2f}%')\n",
        "\n",
        "print('Finished Training')"
      ]
    },
    {
      "cell_type": "code",
      "execution_count": 10,
      "metadata": {
        "colab": {
          "base_uri": "https://localhost:8080/"
        },
        "id": "F4UUnXJ7xiwy",
        "outputId": "764bf85b-e56a-4757-a74e-e357bb0e4906"
      },
      "outputs": [
        {
          "name": "stdout",
          "output_type": "stream",
          "text": [
            "Accuracy on test set: 96.36833333333334%\n"
          ]
        }
      ],
      "source": [
        "# Evaluate on the test model\n",
        "model.eval()\n",
        "correct = 0\n",
        "total = 0\n",
        "with torch.no_grad():\n",
        "    for data in test_loader:\n",
        "        images, labels = data\n",
        "        outputs = model(images)\n",
        "        _, predicted = torch.max(outputs.data, 1)\n",
        "        total += labels.size(0)\n",
        "        correct += (predicted == labels).sum().item()\n",
        "\n",
        "print(f'Accuracy on test set: { correct / total * 100}%')"
      ]
    },
    {
      "cell_type": "markdown",
      "metadata": {
        "id": "DwgLrnjwOCS5"
      },
      "source": [
        "**Step 4. Proposed Modification**\n",
        "\n",
        "Add another Dense layer of 128 nodes"
      ]
    },
    {
      "cell_type": "code",
      "execution_count": 11,
      "metadata": {
        "id": "SOlrTjakORF0"
      },
      "outputs": [],
      "source": [
        "# Define the new neural network architecture\n",
        "class New_MLP(nn.Module):\n",
        "    def __init__(self):\n",
        "        super(New_MLP, self).__init__()\n",
        "        self.fc1 = nn.Linear(28 * 28, 128)\n",
        "        self.fc2 = nn.Linear(128, 128)\n",
        "        self.fc3 = nn.Linear(128, 64)\n",
        "        self.fc4 = nn.Linear(64, 10)\n",
        "\n",
        "    def forward(self, x):\n",
        "        x = x.view(-1, 28 * 28)\n",
        "        x = torch.relu(self.fc1(x))\n",
        "        x = torch.relu(self.fc2(x))\n",
        "        x = torch.relu(self.fc3(x))\n",
        "        x = self.fc4(x)\n",
        "        return x\n",
        "\n",
        "# Initialize the neural network\n",
        "modified_model = New_MLP()"
      ]
    },
    {
      "cell_type": "markdown",
      "metadata": {
        "id": "NxGA7uidRs_G"
      },
      "source": [
        "Hypothesize: Add another Dense layer of 128 nodes may increase the model performance.\n",
        "\n",
        "The deeper the neural network, the more capable it is of capturing data patterns."
      ]
    },
    {
      "cell_type": "markdown",
      "metadata": {
        "id": "gogHE1sARCrE"
      },
      "source": [
        "**Step 5. Modify the model based on the chosen method and train**"
      ]
    },
    {
      "cell_type": "code",
      "execution_count": 12,
      "metadata": {
        "colab": {
          "base_uri": "https://localhost:8080/"
        },
        "id": "G4ysjE6PRFsO",
        "outputId": "da3281df-2b02-41db-d949-240aea2cc935"
      },
      "outputs": [
        {
          "name": "stdout",
          "output_type": "stream",
          "text": [
            "Epoch 1, Batch 100, Loss: 1.1372631585597992, Training Accuracy: 65.02%\n",
            "Epoch 1, Batch 200, Loss: 0.4451623521745205, Training Accuracy: 86.42%\n",
            "Epoch 1, Batch 300, Loss: 0.3938507284224033, Training Accuracy: 87.91%\n",
            "Epoch 1, Batch 400, Loss: 0.33840596698224545, Training Accuracy: 89.91%\n",
            "Epoch 1, Batch 500, Loss: 0.32433912098407747, Training Accuracy: 90.00%\n",
            "Epoch 1, Batch 600, Loss: 0.2956110941618681, Training Accuracy: 90.88%\n",
            "Epoch 1, Batch 700, Loss: 0.2844810143113136, Training Accuracy: 91.05%\n",
            "Epoch 1, Batch 800, Loss: 0.26362392265349627, Training Accuracy: 91.91%\n",
            "Epoch 1, Batch 900, Loss: 0.24584551855921746, Training Accuracy: 92.48%\n",
            "Training Accuracy for Epoch 1: 92.75%\n",
            "Epoch 2, Batch 100, Loss: 0.21423631876707078, Training Accuracy: 93.27%\n",
            "Epoch 2, Batch 200, Loss: 0.23860277414321898, Training Accuracy: 92.36%\n",
            "Epoch 2, Batch 300, Loss: 0.2235447796434164, Training Accuracy: 93.14%\n",
            "Epoch 2, Batch 400, Loss: 0.189650301001966, Training Accuracy: 93.92%\n",
            "Epoch 2, Batch 500, Loss: 0.17017553083598613, Training Accuracy: 94.70%\n",
            "Epoch 2, Batch 600, Loss: 0.18212239820510148, Training Accuracy: 94.36%\n",
            "Epoch 2, Batch 700, Loss: 0.18751795001327992, Training Accuracy: 94.33%\n",
            "Epoch 2, Batch 800, Loss: 0.15797860510647296, Training Accuracy: 94.88%\n",
            "Epoch 2, Batch 900, Loss: 0.14733022952452302, Training Accuracy: 95.50%\n",
            "Training Accuracy for Epoch 2: 95.54%\n",
            "Epoch 3, Batch 100, Loss: 0.13310627641156317, Training Accuracy: 95.95%\n",
            "Epoch 3, Batch 200, Loss: 0.14716762587428092, Training Accuracy: 95.77%\n",
            "Epoch 3, Batch 300, Loss: 0.15238011363893747, Training Accuracy: 95.31%\n",
            "Epoch 3, Batch 400, Loss: 0.14316174985840915, Training Accuracy: 95.84%\n",
            "Epoch 3, Batch 500, Loss: 0.13298994544893503, Training Accuracy: 96.03%\n",
            "Epoch 3, Batch 600, Loss: 0.12735895499587058, Training Accuracy: 96.03%\n",
            "Epoch 3, Batch 700, Loss: 0.15359034346416592, Training Accuracy: 95.36%\n",
            "Epoch 3, Batch 800, Loss: 0.13573166916146875, Training Accuracy: 95.47%\n",
            "Epoch 3, Batch 900, Loss: 0.12367560412734747, Training Accuracy: 96.12%\n",
            "Training Accuracy for Epoch 3: 96.29%\n",
            "Epoch 4, Batch 100, Loss: 0.1127722572349012, Training Accuracy: 96.47%\n",
            "Epoch 4, Batch 200, Loss: 0.11513310987502337, Training Accuracy: 96.34%\n",
            "Epoch 4, Batch 300, Loss: 0.1173906014021486, Training Accuracy: 96.33%\n",
            "Epoch 4, Batch 400, Loss: 0.11457744468003511, Training Accuracy: 96.23%\n",
            "Epoch 4, Batch 500, Loss: 0.11144797887653113, Training Accuracy: 96.59%\n",
            "Epoch 4, Batch 600, Loss: 0.11788802533410489, Training Accuracy: 96.38%\n",
            "Epoch 4, Batch 700, Loss: 0.1076730774436146, Training Accuracy: 96.56%\n",
            "Epoch 4, Batch 800, Loss: 0.10584844197146595, Training Accuracy: 96.77%\n",
            "Epoch 4, Batch 900, Loss: 0.10199752928689122, Training Accuracy: 97.09%\n",
            "Training Accuracy for Epoch 4: 96.42%\n",
            "Epoch 5, Batch 100, Loss: 0.09145438353531063, Training Accuracy: 97.09%\n",
            "Epoch 5, Batch 200, Loss: 0.09187998480629175, Training Accuracy: 97.28%\n",
            "Epoch 5, Batch 300, Loss: 0.08946796766482294, Training Accuracy: 97.02%\n",
            "Epoch 5, Batch 400, Loss: 0.08813029025681317, Training Accuracy: 97.12%\n",
            "Epoch 5, Batch 500, Loss: 0.0950016128923744, Training Accuracy: 96.95%\n",
            "Epoch 5, Batch 600, Loss: 0.0878654592949897, Training Accuracy: 97.20%\n",
            "Epoch 5, Batch 700, Loss: 0.10170482266694307, Training Accuracy: 96.81%\n",
            "Epoch 5, Batch 800, Loss: 0.0960389564651996, Training Accuracy: 96.77%\n",
            "Epoch 5, Batch 900, Loss: 0.106594003373757, Training Accuracy: 96.70%\n",
            "Training Accuracy for Epoch 5: 97.21%\n",
            "Finished Training\n"
          ]
        }
      ],
      "source": [
        "# Define the loss function and optimizer\n",
        "criterion = nn.CrossEntropyLoss()\n",
        "optimizer = optim.Adam(modified_model.parameters(), lr=0.001)\n",
        "\n",
        "# Set the number of epoch\n",
        "num_epochs = 5\n",
        "for epoch in range(num_epochs):\n",
        "    modified_model.train()\n",
        "    running_loss = 0.0\n",
        "    correct_predictions = 0\n",
        "    total_predictions = 0\n",
        "    for i, data in enumerate(train_loader, 0):\n",
        "        inputs, labels = data\n",
        "        optimizer.zero_grad()\n",
        "        outputs = modified_model(inputs)\n",
        "        loss = criterion(outputs, labels)\n",
        "        loss.backward()\n",
        "        optimizer.step()\n",
        "        running_loss += loss.item()\n",
        "\n",
        "        # Calculate training accuracy\n",
        "        _, predicted = torch.max(outputs, 1)\n",
        "        correct_predictions += (predicted == labels).sum().item()\n",
        "        total_predictions += labels.size(0)\n",
        "        #print(total_predictions, correct_predictions)\n",
        "        epoch_accuracy = correct_predictions / total_predictions\n",
        "        if i % 100 == 99:  # print every 100 mini-batches\n",
        "            print(f'Epoch {epoch + 1}, Batch {i + 1}, Loss: {running_loss / 100},'\n",
        "            f' Training Accuracy: {epoch_accuracy * 100:.2f}%')\n",
        "            running_loss = 0.0\n",
        "            correct_predictions = 0\n",
        "            total_predictions = 0\n",
        "\n",
        "    # Calculate training accuracy for the epoch\n",
        "    epoch_accuracy = correct_predictions / total_predictions\n",
        "    print(f'Training Accuracy for Epoch {epoch + 1}: {epoch_accuracy * 100:.2f}%')\n",
        "\n",
        "print('Finished Training')"
      ]
    },
    {
      "cell_type": "markdown",
      "metadata": {
        "id": "BTe23tarVPzN"
      },
      "source": [
        "**Step 6.Report on the results of the modified:**\n",
        "\n"
      ]
    },
    {
      "cell_type": "code",
      "execution_count": null,
      "metadata": {
        "id": "uB4IfZP_VVgS"
      },
      "outputs": [],
      "source": [
        "# define a function to get the model performance\n",
        "def performance_report (num_epochs, criterion, optimizer, model):\n",
        "    num_epochs = num_epochs\n",
        "    optimizer = optimizer\n",
        "    criterion = criterion\n",
        "    for epoch in range(num_epochs):\n",
        "        model.train()\n",
        "        running_loss = 0.0\n",
        "        correct_predictions = 0\n",
        "        total_predictions = 0\n",
        "\n",
        "        for i, data in enumerate(train_loader, 0):\n",
        "            inputs, labels = data\n",
        "            optimizer.zero_grad()\n",
        "            outputs = model(inputs)\n",
        "            loss = criterion(outputs, labels)\n",
        "            loss.backward()\n",
        "            optimizer.step()\n",
        "            running_loss += loss.item()\n",
        "\n",
        "            # Calculate training accuracy\n",
        "            _, predicted = torch.max(outputs, 1)\n",
        "            correct_predictions += (predicted == labels).sum().item()\n",
        "            total_predictions += labels.size(0)\n",
        "\n",
        "        # Calculate training loss for the epoch\n",
        "        epoch_loss = running_loss/ len(train_loader)\n",
        "        # Calculate training accuracy for the epoch\n",
        "        epoch_accuracy = correct_predictions / total_predictions\n",
        "        print(f'Training Accuracy for Epoch {epoch + 1}: {epoch_accuracy * 100:.2f}%, Loss:{epoch_loss}')\n",
        "    print('******Finished Training******')\n",
        "    # Evaluate on the test model\n",
        "    model.eval()\n",
        "    correct = 0\n",
        "    total = 0\n",
        "    with torch.no_grad():\n",
        "        for data in test_loader:\n",
        "            images, labels = data\n",
        "            outputs = model(images)\n",
        "            _, predicted = torch.max(outputs.data, 1)\n",
        "            total += labels.size(0)\n",
        "            correct += (predicted == labels).sum().item()\n",
        "    print(f'Accuracy on test set: { correct / total * 100}%')"
      ]
    },
    {
      "cell_type": "code",
      "execution_count": 14,
      "metadata": {
        "colab": {
          "base_uri": "https://localhost:8080/"
        },
        "id": "zqtjag19SkR6",
        "outputId": "515e6512-3a72-42f8-d074-b65ef52d4a37"
      },
      "outputs": [
        {
          "name": "stdout",
          "output_type": "stream",
          "text": [
            "Accuracy on test set: 96.64833333333334%\n"
          ]
        }
      ],
      "source": [
        "# Evaluate on the test model\n",
        "modified_model.eval()\n",
        "correct = 0\n",
        "total = 0\n",
        "with torch.no_grad():\n",
        "    for data in test_loader:\n",
        "        images, labels = data\n",
        "        outputs = modified_model(images)\n",
        "        _, predicted = torch.max(outputs.data, 1)\n",
        "        total += labels.size(0)\n",
        "        correct += (predicted == labels).sum().item()\n",
        "\n",
        "print(f'Accuracy on test set: { correct / total *100}%')"
      ]
    },
    {
      "cell_type": "markdown",
      "metadata": {
        "id": "-8rTJ9FAGHvS"
      },
      "source": [
        "After add another Dense layer of 128 nodes to the original neural network model,In this running round, the modified model's training accuracy slightly lower than the original neural network, while the testing accuracy slightly increases compared with the original one. However, the performance are not consistent across different runs. Sometimes even the testing accuracy of the modified model with one extra dense layer turns to be lower. This contradicts the hypothesis that adding one more dense layer would consistently increase accuracy."
      ]
    },
    {
      "cell_type": "markdown",
      "metadata": {
        "id": "asY5Ax4a2Vc3"
      },
      "source": [
        "**Step 7. A : Experiment with different optimizers**"
      ]
    },
    {
      "cell_type": "code",
      "execution_count": 15,
      "metadata": {
        "colab": {
          "base_uri": "https://localhost:8080/"
        },
        "id": "Tif-fpJFXyB_",
        "outputId": "f4bb6a15-7e59-4753-cd23-1552b3951e0b"
      },
      "outputs": [
        {
          "name": "stdout",
          "output_type": "stream",
          "text": [
            "optimizer : SGD\n",
            "Training Accuracy for Epoch 1: 83.46%, Loss:0.520638111946997\n",
            "Training Accuracy for Epoch 2: 94.31%, Loss:0.18473494790200548\n",
            "Training Accuracy for Epoch 3: 95.87%, Loss:0.13443830996644554\n",
            "Training Accuracy for Epoch 4: 96.59%, Loss:0.10683616037780383\n",
            "Training Accuracy for Epoch 5: 97.28%, Loss:0.08800512236376196\n",
            "******Finished Training******\n",
            "Accuracy on test set: 96.34166666666667%\n"
          ]
        }
      ],
      "source": [
        "optimizers = [optim.SGD(model.parameters(), lr=0.01, momentum=0.9),\n",
        "              optim.RMSprop(model.parameters(), lr=0.001, alpha=0.9),\n",
        "              optim.Adagrad(model.parameters(), lr=0.01),\n",
        "              optim.Adadelta(model.parameters(), lr=1.0, rho=0.9)]\n",
        "criterions = [nn.CrossEntropyLoss(), nn.HingeEmbeddingLoss(), nn.TripletMarginLoss()]\n",
        "# choose SGD as optimizer\n",
        "model_1 = New_MLP()\n",
        "print(f'optimizer : SGD')\n",
        "# get the performance on training and testing data\n",
        "performance_report (5, nn.CrossEntropyLoss(), optim.SGD(model_1.parameters(), lr=0.01, momentum=0.9,), model_1)"
      ]
    },
    {
      "cell_type": "code",
      "execution_count": 16,
      "metadata": {
        "colab": {
          "base_uri": "https://localhost:8080/"
        },
        "id": "t2CVSoQYihmK",
        "outputId": "7aaa2b65-c28f-4ff4-a872-d87c16aa763f"
      },
      "outputs": [
        {
          "name": "stdout",
          "output_type": "stream",
          "text": [
            "optimizer : RMSprop\n",
            "Training Accuracy for Epoch 1: 86.11%, Loss:0.43897915084256545\n",
            "Training Accuracy for Epoch 2: 94.36%, Loss:0.18205247336883407\n",
            "Training Accuracy for Epoch 3: 95.69%, Loss:0.13595203113462181\n",
            "Training Accuracy for Epoch 4: 96.62%, Loss:0.11146156460509452\n",
            "Training Accuracy for Epoch 5: 97.00%, Loss:0.09707146646742369\n",
            "******Finished Training******\n",
            "Accuracy on test set: 95.31833333333334%\n"
          ]
        }
      ],
      "source": [
        "# choose RMSprop as optimizer\n",
        "model_2 = New_MLP()\n",
        "print(f'optimizer : RMSprop')\n",
        "# get the performance on training and testing data\n",
        "performance_report (5, nn.CrossEntropyLoss(),  optim.RMSprop(model_2.parameters(), lr=0.001, alpha=0.9), model_2)"
      ]
    },
    {
      "cell_type": "code",
      "execution_count": 17,
      "metadata": {
        "colab": {
          "base_uri": "https://localhost:8080/"
        },
        "id": "tIPnbhQwbwK0",
        "outputId": "5c5dcf9a-c8fb-4f63-8001-e88f1ca08894"
      },
      "outputs": [
        {
          "name": "stdout",
          "output_type": "stream",
          "text": [
            "optimizer : Adagrad\n",
            "Training Accuracy for Epoch 1: 87.25%, Loss:0.4014728425312906\n",
            "Training Accuracy for Epoch 2: 93.88%, Loss:0.20341310365351914\n",
            "Training Accuracy for Epoch 3: 94.99%, Loss:0.1632936385644874\n",
            "Training Accuracy for Epoch 4: 95.65%, Loss:0.1416586424881366\n",
            "Training Accuracy for Epoch 5: 96.20%, Loss:0.12653075735261446\n",
            "******Finished Training******\n",
            "Accuracy on test set: 95.65166666666667%\n"
          ]
        }
      ],
      "source": [
        "# choose Adagrad as optimizer\n",
        "model_3 = New_MLP()\n",
        "# get the performance on training and testing data\n",
        "print(f'optimizer : Adagrad')\n",
        "performance_report (5, nn.CrossEntropyLoss(),  optim.Adagrad(model_3.parameters(), lr=0.01), model_3)"
      ]
    },
    {
      "cell_type": "code",
      "execution_count": 18,
      "metadata": {
        "colab": {
          "base_uri": "https://localhost:8080/"
        },
        "id": "ykQI7SM2iUkw",
        "outputId": "db93e8ae-4034-4f85-f498-3c81a8e9a708"
      },
      "outputs": [
        {
          "name": "stdout",
          "output_type": "stream",
          "text": [
            "optimizer : Adadelta\n",
            "Training Accuracy for Epoch 1: 86.17%, Loss:0.4284219213330479\n",
            "Training Accuracy for Epoch 2: 94.70%, Loss:0.17335230706464141\n",
            "Training Accuracy for Epoch 3: 96.09%, Loss:0.13018429431536083\n",
            "Training Accuracy for Epoch 4: 96.67%, Loss:0.11005890466370133\n",
            "Training Accuracy for Epoch 5: 97.11%, Loss:0.09695652729659371\n",
            "******Finished Training******\n",
            "Accuracy on test set: 95.54%\n"
          ]
        }
      ],
      "source": [
        "# choose Adagrad Adadelta as optimizer\n",
        "model_4 = New_MLP()\n",
        "# get the performance on training and testing data\n",
        "print(f'optimizer : Adadelta')\n",
        "performance_report (5, nn.CrossEntropyLoss(), optim.Adadelta(model_4.parameters(), lr=1.0, rho=0.9), model_4)\n"
      ]
    },
    {
      "cell_type": "markdown",
      "metadata": {
        "id": "MAUuDf0ZCazg"
      },
      "source": [
        "Different optimizers result in varying accuracies, with all optimizers achieving good accuracy, over 95%. Among them, SGD achieves the highest accuracy 96.34%, except for Adam 96.64%."
      ]
    },
    {
      "cell_type": "markdown",
      "metadata": {
        "id": "sJDBphIl2eS7"
      },
      "source": [
        "**Step 7. B : Experiment with different loss functions**"
      ]
    },
    {
      "cell_type": "code",
      "execution_count": 19,
      "metadata": {
        "id": "tVkoOuDjMptP"
      },
      "outputs": [],
      "source": [
        "# Define the new neural network architecture with activation function in the output layer\n",
        "class New_MLP_2(nn.Module):\n",
        "    def __init__(self):\n",
        "        super(New_MLP_2, self).__init__()\n",
        "        self.fc1 = nn.Linear(28 * 28, 128)\n",
        "        self.fc2 = nn.Linear(128, 128)\n",
        "        self.fc3 = nn.Linear(128, 64)\n",
        "        self.fc4 = nn.Linear(64, 10)\n",
        "\n",
        "    def forward(self, x):\n",
        "        x = x.view(-1, 28 * 28)\n",
        "        x = torch.relu(self.fc1(x))\n",
        "        x = torch.relu(self.fc2(x))\n",
        "        x = torch.relu(self.fc3(x))\n",
        "        x = torch.softmax(self.fc4(x), dim=1)\n",
        "        return x"
      ]
    },
    {
      "cell_type": "code",
      "execution_count": 20,
      "metadata": {
        "colab": {
          "base_uri": "https://localhost:8080/"
        },
        "id": "x0B9VO0-KJ8e",
        "outputId": "381ef0bf-ba14-4f9d-af78-673e78456328"
      },
      "outputs": [
        {
          "name": "stdout",
          "output_type": "stream",
          "text": [
            "Model performance with NLLLoss as loss function\n",
            "Training Accuracy for Epoch 1: 56.45%, Loss:-0.5576068422735245\n",
            "Training Accuracy for Epoch 2: 87.54%, Loss:-0.8709477139815592\n",
            "Training Accuracy for Epoch 3: 91.90%, Loss:-0.9170378806875713\n",
            "Training Accuracy for Epoch 4: 92.97%, Loss:-0.9281511510740211\n",
            "Training Accuracy for Epoch 5: 93.77%, Loss:-0.9362846230393025\n",
            "******Finished Training******\n",
            "Accuracy on test set: 94.69999999999999%\n"
          ]
        }
      ],
      "source": [
        "# creat a model with softmax function in the output layer\n",
        "model_a = New_MLP_2()\n",
        "# use NLLLoss as the loss function, which is applied only on models with the softmax function\n",
        "# get the performance on training and testing data\n",
        "print(f'Model performance with NLLLoss as loss function')\n",
        "performance_report (5, nn.NLLLoss(), optim.Adam(model_a.parameters(), lr=0.001), model_a)"
      ]
    },
    {
      "cell_type": "code",
      "execution_count": 41,
      "metadata": {
        "colab": {
          "base_uri": "https://localhost:8080/"
        },
        "id": "ikHA7n01sV6z",
        "outputId": "aa7917b7-9ca4-4ab9-d1ee-e72172cc2170"
      },
      "outputs": [
        {
          "name": "stdout",
          "output_type": "stream",
          "text": [
            "Model performance with MSE Loss as loss function\n",
            "Training Accuracy for Epoch 1: 89.68%, Loss:0.01925570779774926\n",
            "Training Accuracy for Epoch 2: 95.67%, Loss:0.008413092900456777\n",
            "Training Accuracy for Epoch 3: 96.65%, Loss:0.006637804284527985\n",
            "Training Accuracy for Epoch 4: 97.19%, Loss:0.005512569947337021\n",
            "Training Accuracy for Epoch 5: 97.41%, Loss:0.004953415283852859\n",
            "******Finished Training******\n",
            "Accuracy on test set: 96.56%\n"
          ]
        }
      ],
      "source": [
        "model_b = New_MLP()\n",
        "print(f'Model performance with MSE Loss as loss function')\n",
        "#performance_report (5, nn.MSELoss(), optim.Adam(model_b.parameters(), lr=0.001), model_b)\n",
        "num_epochs = 5\n",
        "optimizer = optim.Adam(model_b.parameters(), lr=0.001)\n",
        "criterion = nn.MSELoss()\n",
        "for epoch in range(num_epochs):\n",
        "    model_b.train()\n",
        "    running_loss = 0.0\n",
        "    correct_predictions = 0\n",
        "    total_predictions = 0\n",
        "\n",
        "    for i, data in enumerate(train_loader, 0):\n",
        "        inputs, labels = data\n",
        "        optimizer.zero_grad()\n",
        "        outputs = model_b(inputs)\n",
        "        # encode the label to match output requirement\n",
        "        labels_onehot = torch.zeros_like(outputs)\n",
        "        labels_onehot.scatter_(1, labels.view(-1, 1), 1.0)\n",
        "        loss = criterion(outputs, labels_onehot)\n",
        "        loss.backward()\n",
        "        optimizer.step()\n",
        "        running_loss += loss.item()\n",
        "\n",
        "        # Calculate training accuracy\n",
        "        _, predicted = torch.max(outputs, 1)\n",
        "        correct_predictions += (predicted == labels).sum().item()\n",
        "        total_predictions += labels.size(0)\n",
        "\n",
        "    # Calculate training loss for the epoch\n",
        "    epoch_loss = running_loss/ len(train_loader)\n",
        "    # Calculate training accuracy for the epoch\n",
        "    epoch_accuracy = correct_predictions / total_predictions\n",
        "    print(f'Training Accuracy for Epoch {epoch + 1}: {epoch_accuracy * 100:.2f}%, Loss:{epoch_loss}')\n",
        "print('******Finished Training******')\n",
        "\n",
        "# Evaluate on the test model\n",
        "model_b.eval()\n",
        "correct = 0\n",
        "total = 0\n",
        "with torch.no_grad():\n",
        "    for data in test_loader:\n",
        "        images, labels = data\n",
        "        outputs = model_b(images)\n",
        "        _, predicted = torch.max(outputs.data, 1)\n",
        "        total += labels.size(0)\n",
        "        correct += (predicted == labels).sum().item()\n",
        "print(f'Accuracy on test set: { correct / total * 100}%')"
      ]
    },
    {
      "cell_type": "markdown",
      "metadata": {
        "id": "I3j1e5otDT1R"
      },
      "source": [
        "Two additional loss functions were tested here: NLLLoss achieved an accuracy of 94.7%, while MSELoss achieved an accuracy of 96.56%. Although MSELoss demonstrates competitive accuracy compared to CrossEntropy, which achieved an accuracy of 96.64%, MSELoss requires converting the output to one-hot encoding for compatibility. This extra process may introduce some error, so for multi-class classification tasks like image classification, CrossEntropy is considered as a better choice.\""
      ]
    },
    {
      "cell_type": "markdown",
      "metadata": {
        "id": "XtVreyyR2lkd"
      },
      "source": [
        "**Step 7. C : Experiment with dropout**"
      ]
    },
    {
      "cell_type": "code",
      "execution_count": 22,
      "metadata": {
        "id": "5ipkdb6rsThp"
      },
      "outputs": [],
      "source": [
        "# Construct the neural network model with dropout for each layer\n",
        "class MLP_Dropout(nn.Module):\n",
        "    def __init__(self, dropout_prob=0.5):\n",
        "        super(MLP_Dropout, self).__init__()\n",
        "        self.fc1 = nn.Linear(28 * 28, 128)\n",
        "        self.dropout1 = nn.Dropout(dropout_prob)\n",
        "        self.fc2 = nn.Linear(128, 128)\n",
        "        self.dropout2 = nn.Dropout(dropout_prob)\n",
        "        self.fc3 = nn.Linear(128, 64)\n",
        "        self.dropout3 = nn.Dropout(dropout_prob)\n",
        "        self.fc4 = nn.Linear(64, 10)\n",
        "\n",
        "    def forward(self, x):\n",
        "        x = x.view(-1, 28 * 28)\n",
        "        x = torch.relu(self.fc1(x))\n",
        "        x = self.dropout1(x)\n",
        "        x = torch.relu(self.fc2(x))\n",
        "        x = self.dropout2(x)\n",
        "        x = torch.relu(self.fc3(x))\n",
        "        x = self.dropout3(x)\n",
        "        x = torch.softmax(self.fc4(x), dim=1)\n",
        "        return x"
      ]
    },
    {
      "cell_type": "code",
      "execution_count": 23,
      "metadata": {
        "colab": {
          "base_uri": "https://localhost:8080/"
        },
        "id": "IN-k_UEEt8Qj",
        "outputId": "0e64ae0c-5451-4434-bf01-218ce687081d"
      },
      "outputs": [
        {
          "name": "stdout",
          "output_type": "stream",
          "text": [
            "Mode Performance with dropout probability = 0.5\n",
            "Training Accuracy for Epoch 1: 62.90%, Loss:1.8365322342559474\n",
            "Training Accuracy for Epoch 2: 81.37%, Loss:1.6510601170789967\n",
            "Training Accuracy for Epoch 3: 83.23%, Loss:1.6303291144147356\n",
            "Training Accuracy for Epoch 4: 83.53%, Loss:1.6262702858015927\n",
            "Training Accuracy for Epoch 5: 83.74%, Loss:1.624494870207203\n",
            "******Finished Training******\n",
            "Accuracy on test set: 89.88000000000001%\n"
          ]
        }
      ],
      "source": [
        "model_i = MLP_Dropout()\n",
        "# get the performance on training and testing data\n",
        "print('Mode Performance with dropout probability = 0.5')\n",
        "performance_report (5, nn.CrossEntropyLoss(), optim.Adam(model_i.parameters(), lr=0.001), model_i)"
      ]
    },
    {
      "cell_type": "code",
      "execution_count": 24,
      "metadata": {
        "colab": {
          "base_uri": "https://localhost:8080/"
        },
        "id": "gmhpWCWgSXns",
        "outputId": "3c63fd39-d328-45e2-f516-3811be515ef4"
      },
      "outputs": [
        {
          "name": "stdout",
          "output_type": "stream",
          "text": [
            "Mode Performance with dropout probability = 0.7\n",
            "Training Accuracy for Epoch 1: 35.79%, Loss:2.095614153311959\n",
            "Training Accuracy for Epoch 2: 52.20%, Loss:1.9442043412468835\n",
            "Training Accuracy for Epoch 3: 53.82%, Loss:1.9241228389587484\n",
            "Training Accuracy for Epoch 4: 55.30%, Loss:1.9094482094748442\n",
            "Training Accuracy for Epoch 5: 57.10%, Loss:1.8914797341645653\n",
            "******Finished Training******\n",
            "Accuracy on test set: 79.58666666666666%\n"
          ]
        }
      ],
      "source": [
        "model_j = MLP_Dropout(0.7)\n",
        "# get the performance on training and testing data\n",
        "print('Mode Performance with dropout probability = 0.7')\n",
        "performance_report (5, nn.CrossEntropyLoss(), optim.Adam(model_j.parameters(), lr=0.001), model_j)"
      ]
    },
    {
      "cell_type": "code",
      "execution_count": 25,
      "metadata": {
        "colab": {
          "base_uri": "https://localhost:8080/"
        },
        "id": "ud-MUWeKvJvu",
        "outputId": "6683e968-15e6-4e3d-ada2-0cc16c457d96"
      },
      "outputs": [
        {
          "name": "stdout",
          "output_type": "stream",
          "text": [
            "Mode Performance with dropout probability = 0.2\n",
            "Training Accuracy for Epoch 1: 79.36%, Loss:1.674515878976281\n",
            "Training Accuracy for Epoch 2: 89.42%, Loss:1.5683263293715681\n",
            "Training Accuracy for Epoch 3: 90.76%, Loss:1.5548098616000177\n",
            "Training Accuracy for Epoch 4: 91.56%, Loss:1.5461109896966898\n",
            "Training Accuracy for Epoch 5: 92.08%, Loss:1.5405183382379983\n",
            "******Finished Training******\n",
            "Accuracy on test set: 93.425%\n"
          ]
        }
      ],
      "source": [
        "model_k = MLP_Dropout(0.2)\n",
        "# get the performance on training and testing data\n",
        "print('Mode Performance with dropout probability = 0.2')\n",
        "performance_report (5, nn.CrossEntropyLoss(), optim.Adam(model_k.parameters(), lr=0.001), model_k)"
      ]
    },
    {
      "cell_type": "markdown",
      "metadata": {
        "id": "yGzTr5ZiHaPM"
      },
      "source": [
        "After trying dropout with different probabilities (p = 0.2, 0.5, 0.7), we observed that the higher the dropout probability, the lower the model's performance. This is because dropout randomly disconnects nodes, which is typically considered an effective method to prevent overfitting. Dropout probabilities in the range of 0.2 to 0.5 are reasonable choices, as too high a probability may hinder the model's ability to capture data patterns."
      ]
    },
    {
      "cell_type": "markdown",
      "metadata": {
        "id": "5iWULw3L2vmQ"
      },
      "source": [
        "**Step 7. D : Experiment with activation functions**\n",
        "\n"
      ]
    },
    {
      "cell_type": "code",
      "execution_count": 26,
      "metadata": {
        "colab": {
          "base_uri": "https://localhost:8080/"
        },
        "id": "9_JS5Vpw5DpT",
        "outputId": "b005bc97-0133-4e51-b3c1-e5bfd53d43cb"
      },
      "outputs": [
        {
          "name": "stdout",
          "output_type": "stream",
          "text": [
            "Model performance with softmax as output activation function\n",
            "Training Accuracy for Epoch 1: 81.28%, Loss:1.656397135654238\n",
            "Training Accuracy for Epoch 2: 91.15%, Loss:1.5515638579691906\n",
            "Training Accuracy for Epoch 3: 93.04%, Loss:1.5319968642456445\n",
            "Training Accuracy for Epoch 4: 94.07%, Loss:1.5211110062944864\n",
            "Training Accuracy for Epoch 5: 94.48%, Loss:1.5163493076367165\n",
            "******Finished Training******\n",
            "Accuracy on test set: 93.90166666666667%\n"
          ]
        }
      ],
      "source": [
        "# creat a model with softmax function in the output layer\n",
        "model_x = New_MLP_2()\n",
        "# get the performance on training and testing data\n",
        "print(f'Model performance with softmax as output activation function')\n",
        "performance_report (5, nn.CrossEntropyLoss(), optim.Adam(model_x.parameters(), lr=0.001), model_x)"
      ]
    },
    {
      "cell_type": "code",
      "execution_count": 27,
      "metadata": {
        "id": "p4NgWHhjExea"
      },
      "outputs": [],
      "source": [
        "# Define the new neural network architecture using sigmoid function as activation function\n",
        "class MLP_Sigmoid(nn.Module):\n",
        "    def __init__(self):\n",
        "        super(MLP_Sigmoid, self).__init__()\n",
        "        self.fc1 = nn.Linear(28 * 28, 128)\n",
        "        self.fc2 = nn.Linear(128, 128)\n",
        "        self.fc3 = nn.Linear(128, 64)\n",
        "        self.fc4 = nn.Linear(64, 10)\n",
        "\n",
        "    def forward(self, x):\n",
        "        x = x.view(-1, 28 * 28)\n",
        "        x = torch.sigmoid(self.fc1(x))\n",
        "        x = torch.sigmoid(self.fc2(x))\n",
        "        x = torch.sigmoid(self.fc3(x))\n",
        "        x = torch.softmax(self.fc4(x), dim=1)\n",
        "        return x"
      ]
    },
    {
      "cell_type": "code",
      "execution_count": 28,
      "metadata": {
        "colab": {
          "base_uri": "https://localhost:8080/"
        },
        "id": "6fJ7EYdIOLXZ",
        "outputId": "3eafafd4-9f38-4c13-a6bf-4c83bd616c14"
      },
      "outputs": [
        {
          "name": "stdout",
          "output_type": "stream",
          "text": [
            "Model Performance using Sigmoid function\n",
            "Training Accuracy for Epoch 1: 58.70%, Loss:1.89215990462537\n",
            "Training Accuracy for Epoch 2: 80.98%, Loss:1.6571321708561262\n",
            "Training Accuracy for Epoch 3: 87.45%, Loss:1.5929276236593088\n",
            "Training Accuracy for Epoch 4: 93.50%, Loss:1.5315370643570987\n",
            "Training Accuracy for Epoch 5: 94.44%, Loss:1.5198045941049865\n",
            "******Finished Training******\n",
            "Accuracy on test set: 94.78999999999999%\n"
          ]
        }
      ],
      "source": [
        "model_y = MLP_Sigmoid()\n",
        "# get the performance on training and testing data\n",
        "print(f'Model Performance using Sigmoid function')\n",
        "performance_report (5, nn.CrossEntropyLoss(), optim.Adam(model_y.parameters(), lr=0.001), model_y)"
      ]
    },
    {
      "cell_type": "code",
      "execution_count": 35,
      "metadata": {
        "id": "UfxUlBwA0AkJ"
      },
      "outputs": [],
      "source": [
        "# Define the new neural network architecture using Tanh function as activation function\n",
        "class MLP_Tanh(nn.Module):\n",
        "    def __init__(self):\n",
        "        super(MLP_Tanh, self).__init__()\n",
        "        self.fc1 = nn.Linear(28 * 28, 128)\n",
        "        self.fc2 = nn.Linear(128, 128)\n",
        "        self.fc3 = nn.Linear(128, 64)\n",
        "        self.fc4 = nn.Linear(64, 10)\n",
        "\n",
        "    def forward(self, x):\n",
        "        x = x.view(-1, 28 * 28)\n",
        "        x = torch.tanh(self.fc1(x))\n",
        "        x = torch.tanh(self.fc2(x))\n",
        "        x = torch.tanh(self.fc3(x))\n",
        "        x = torch.softmax(self.fc4(x), dim=1)\n",
        "        return x"
      ]
    },
    {
      "cell_type": "code",
      "execution_count": 36,
      "metadata": {
        "colab": {
          "base_uri": "https://localhost:8080/"
        },
        "id": "MtwqRdmy0At7",
        "outputId": "ad8bdf65-738a-4634-ec5a-5aaa5a0aa20a"
      },
      "outputs": [
        {
          "name": "stdout",
          "output_type": "stream",
          "text": [
            "Model Performance using Tanh function\n",
            "Training Accuracy for Epoch 1: 86.84%, Loss:1.6108595431486428\n",
            "Training Accuracy for Epoch 2: 92.56%, Loss:1.538499570350403\n",
            "Training Accuracy for Epoch 3: 93.40%, Loss:1.5294960021718478\n",
            "Training Accuracy for Epoch 4: 93.71%, Loss:1.5260095880992377\n",
            "Training Accuracy for Epoch 5: 93.99%, Loss:1.5224146573528299\n",
            "******Finished Training******\n",
            "Accuracy on test set: 93.27166666666666%\n"
          ]
        }
      ],
      "source": [
        "model_z = MLP_Tanh()\n",
        "print(f'Model Performance using Tanh function')\n",
        "# get the performance on training and testing data\n",
        "performance_report (5, nn.CrossEntropyLoss(), optim.Adam(model_z.parameters(), lr=0.001), model_z)"
      ]
    },
    {
      "cell_type": "code",
      "execution_count": 42,
      "metadata": {
        "id": "zYvbMdtREgcL"
      },
      "outputs": [],
      "source": [
        "class MLP_LeakyReLU(nn.Module):\n",
        "    def __init__(self):\n",
        "        super(MLP_LeakyReLU, self).__init__()\n",
        "\n",
        "        # Define the hidden layer with LeakyReLU activation\n",
        "        self.fc1 = nn.Linear(28 * 28, 128)\n",
        "        self.fc2 = nn.Linear(128, 128)\n",
        "        self.fc3 = nn.Linear(128, 64)\n",
        "        self.fc4 = nn.Linear(64, 10)\n",
        "        self.leaky_relu = nn.LeakyReLU()\n",
        "\n",
        "\n",
        "    def forward(self, x):\n",
        "        x = x.view(-1, 28 * 28)  # Flatten the input tensor\n",
        "        x = self.leaky_relu(self.fc1(x))\n",
        "        x = self.leaky_relu(self.fc2(x))\n",
        "        x = self.leaky_relu(self.fc3(x))\n",
        "        x = torch.softmax(self.fc4(x), dim=1)\n",
        "        return x"
      ]
    },
    {
      "cell_type": "code",
      "execution_count": 43,
      "metadata": {
        "colab": {
          "base_uri": "https://localhost:8080/"
        },
        "id": "vUyt9ZkF4b3R",
        "outputId": "1de7d2dc-97a5-4fd7-c08b-35d6e74a634b"
      },
      "outputs": [
        {
          "name": "stdout",
          "output_type": "stream",
          "text": [
            "Training Accuracy for Epoch 1: 83.87%, Loss:1.6302799784552569\n",
            "Training Accuracy for Epoch 2: 91.99%, Loss:1.5427697408936425\n",
            "Training Accuracy for Epoch 3: 93.57%, Loss:1.5265046109014482\n",
            "Training Accuracy for Epoch 4: 94.21%, Loss:1.51905291192313\n",
            "Training Accuracy for Epoch 5: 94.40%, Loss:1.5170507230229977\n",
            "******Finished Training******\n",
            "Accuracy on test set: 94.30333333333333%\n"
          ]
        }
      ],
      "source": [
        "model_w = MLP_LeakyReLU()\n",
        "# get the performance on training and testing data\n",
        "performance_report (5, nn.CrossEntropyLoss(), optim.Adam(model_w.parameters(), lr=0.001), model_w)"
      ]
    },
    {
      "cell_type": "markdown",
      "metadata": {
        "id": "wcww8tpuLzAf"
      },
      "source": [
        "After training with different activation functions, the results are as follows: the model with softmax in the output layer achieved an accuracy of 93.27%. Among the activation functions tanh, sigmoid, relu, and leaky relu, the model with sigmoid as the hidden layer activation function and softmax as the output layer function achieved the highest accuracy at 94.78%. However, the model without softmax still outperforms the others with an accuracy of 96.64%."
      ]
    },
    {
      "cell_type": "markdown",
      "metadata": {
        "id": "R_u9KWIpOxuR"
      },
      "source": [
        "**Step 8. Show an example of a backpropagation algorithm by hand**\n",
        "\n",
        "The pdf file has been uploaded in the canvas"
      ]
    },
    {
      "cell_type": "markdown",
      "metadata": {
        "id": "owBXiXV-OD4M"
      },
      "source": [
        "**GITHUB:** https://github.com/sarahsha2023/Deep_Learning_DATA255\n"
      ]
    }
  ],
  "metadata": {
    "accelerator": "GPU",
    "colab": {
      "gpuType": "T4",
      "provenance": []
    },
    "kernelspec": {
      "display_name": "Python 3",
      "name": "python3"
    },
    "language_info": {
      "name": "python"
    }
  },
  "nbformat": 4,
  "nbformat_minor": 0
}
